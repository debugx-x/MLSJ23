{
 "cells": [
  {
   "attachments": {},
   "cell_type": "markdown",
   "metadata": {},
   "source": [
    "# ML Study Jam Exercise 1"
   ]
  },
  {
   "cell_type": "code",
   "execution_count": null,
   "metadata": {},
   "outputs": [],
   "source": [
    "# import Libraries\n",
    "import pandas as pd\n",
    "import numpy as np\n",
    "from sklearn.model_selection import train_test_split\n",
    "from sklearn.tree import DecisionTreeClassifier\n",
    "from sklearn.metrics import accuracy_score"
   ]
  },
  {
   "cell_type": "code",
   "execution_count": null,
   "metadata": {},
   "outputs": [],
   "source": [
    "# install libraries in case missing\n",
    "\n",
    "%pip install pandas numpy scikit-learn matplotlib"
   ]
  },
  {
   "cell_type": "code",
   "execution_count": null,
   "metadata": {},
   "outputs": [],
   "source": [
    "# read data\n",
    "df = pd.read_csv(\"./dataset.csv\")"
   ]
  },
  {
   "cell_type": "code",
   "execution_count": null,
   "metadata": {},
   "outputs": [],
   "source": [
    "# print data\n",
    "print(df.head())"
   ]
  },
  {
   "cell_type": "code",
   "execution_count": null,
   "metadata": {},
   "outputs": [],
   "source": [
    "# print data info\n",
    "print(df.info())"
   ]
  },
  {
   "cell_type": "code",
   "execution_count": null,
   "metadata": {},
   "outputs": [],
   "source": [
    "# print second column\n",
    "print(df.iloc[:, 1])"
   ]
  },
  {
   "cell_type": "code",
   "execution_count": null,
   "metadata": {},
   "outputs": [],
   "source": [
    "# print all the rows in the dataframe with color as 'Green' using for loop\n",
    "\n",
    "for index, row in df.iterrows():\n",
    "    if row['color'] == 'Green':\n",
    "        print(row)\n",
    "\n",
    "# print all the rows in the dataframe with color as 'Green' using loc\n",
    "\n",
    "print(df.loc[df['color'] == 'Green'])\n"
   ]
  },
  {
   "cell_type": "code",
   "execution_count": null,
   "metadata": {},
   "outputs": [],
   "source": [
    "# Use numpy to add 13 new rows to the dataframe with random values for all the columns\n",
    "\n",
    "for i in range(13):\n",
    "    df.loc[len(df.index)] = np.random.randint(0, 100, size=len(df.columns))\n",
    "\n",
    "print(df)"
   ]
  },
  {
   "cell_type": "code",
   "execution_count": null,
   "metadata": {},
   "outputs": [],
   "source": [
    "# numpy vectorize function to convert Red to 0, Green to 1 and Yellow to 2\n",
    "\n",
    "def color_to_numeric(x):\n",
    "    if x == 'Red':\n",
    "        return 0\n",
    "    if x == 'Green':\n",
    "        return 1\n",
    "    if x == 'Yellow':\n",
    "        return 2\n",
    "    \n",
    "df_color = np.vectorize(color_to_numeric)(df['color'])\n",
    "\n",
    "print(df_color)\n",
    "\n",
    "# add a new column to the dataframe with the name 'color_numeric' and assign the values from the above step\n",
    "\n",
    "df['color_numeric'] = df_color\n",
    "\n",
    "print(df)\n"
   ]
  },
  {
   "cell_type": "code",
   "execution_count": null,
   "metadata": {},
   "outputs": [],
   "source": [
    "# Split dataset\n",
    "from sklearn.model_selection import train_test_split\n",
    "from sklearn.ensemble import RandomForestClassifier\n",
    "\n",
    "X_train, X_test, y_train, y_test = train_test_split(my_dataframe.iloc[1:, [1, 3]], my_dataframe.iloc[1:, 2], test_size=0.2, random_state=42)\n",
    "\n",
    "# Create the model and fit the data\n",
    "clf = RandomForestClassifier()\n",
    "clf.fit(X_train, y_train)\n",
    "\n",
    "# Make predictions on the testing set\n",
    "y_pred = clf.predict(X_test)\n",
    "\n",
    "# Evaluate the model\n",
    "accuracy = accuracy_score(y_test, y_pred)\n",
    "print('Accuracy:', accuracy)"
   ]
  },
  {
   "cell_type": "code",
   "execution_count": null,
   "metadata": {},
   "outputs": [],
   "source": [
    "# visualize the random forest classifier\n",
    "\n",
    "from sklearn.tree import export_graphviz\n",
    "from sklearn.externals.six import StringIO\n",
    "from IPython.display import Image\n",
    "import pydotplus\n",
    "\n",
    "dot_data = StringIO()\n",
    "\n",
    "export_graphviz(clf.estimators_[0], out_file=dot_data, filled=True, rounded=True, special_characters=True, feature_names=X_train.columns, class_names=['0', '1', '2'])\n",
    "\n",
    "graph = pydotplus.graph_from_dot_data(dot_data.getvalue())\n",
    "graph.write_png('tree.png')\n",
    "Image(graph.create_png())\n",
    "\n",
    "# print the confusion matrix\n",
    "\n",
    "from sklearn.metrics import confusion_matrix"
   ]
  }
 ],
 "metadata": {
  "language_info": {
   "name": "python"
  },
  "orig_nbformat": 4
 },
 "nbformat": 4,
 "nbformat_minor": 2
}
